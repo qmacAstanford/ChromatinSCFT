{
 "cells": [
  {
   "cell_type": "code",
   "execution_count": 14,
   "metadata": {},
   "outputs": [],
   "source": [
    "import numpy as np\n",
    "import matplotlib.pyplot as plt\n",
    "import seaborn as sns"
   ]
  },
  {
   "cell_type": "code",
   "execution_count": 15,
   "metadata": {},
   "outputs": [],
   "source": [
    "import oneDInteraction as od"
   ]
  },
  {
   "cell_type": "code",
   "execution_count": 16,
   "metadata": {},
   "outputs": [],
   "source": [
    "from importlib import reload"
   ]
  },
  {
   "cell_type": "code",
   "execution_count": 33,
   "metadata": {},
   "outputs": [],
   "source": [
    "od =reload(od)"
   ]
  },
  {
   "cell_type": "code",
   "execution_count": 47,
   "metadata": {},
   "outputs": [],
   "source": [
    "params_0 = {'R':1.0,\n",
    "            'b':0.01,\n",
    "            'fraction_A':0.01,\n",
    "            'fraction_B':0.01,\n",
    "            'spherical':True,\n",
    "            'rbind':0.03,\n",
    "            'ubind':0.0,\n",
    "            'chi_aa':-0.005,\n",
    "            'chi_pp':0.01,\n",
    "            'equ_of_state':'FloryHuggins',\n",
    "            'reverse_x':True}"
   ]
  },
  {
   "cell_type": "code",
   "execution_count": 69,
   "metadata": {},
   "outputs": [],
   "source": [
    "params_0['fractional_update']=0.02\n",
    "params_0['cycles']=200\n",
    "params_0['tolerence']=0.003"
   ]
  },
  {
   "cell_type": "code",
   "execution_count": 72,
   "metadata": {},
   "outputs": [],
   "source": [
    "delta_params={'ubind':0.002}\n",
    "n_samples = 200"
   ]
  },
  {
   "cell_type": "code",
   "execution_count": 73,
   "metadata": {},
   "outputs": [
    {
     "name": "stdout",
     "output_type": "stream",
     "text": [
      "Takeing sameple  0  ...\n"
     ]
    },
    {
     "name": "stderr",
     "output_type": "stream",
     "text": [
      "/home/users/qmac/SCFT/oneDInteraction.py:291: UserWarning: Failed to converge error metric = 0.008185184480132796\n",
      "  warnings.warn(\"Failed to converge error metric = \"+str(error))\n"
     ]
    },
    {
     "name": "stdout",
     "output_type": "stream",
     "text": [
      "Takeing sameple  1  ...\n",
      "Takeing sameple  2  ...\n",
      "Takeing sameple  3  ...\n",
      "Takeing sameple  4  ...\n",
      "Takeing sameple  5  ...\n",
      "Takeing sameple  6  ...\n",
      "Takeing sameple  7  ...\n",
      "Takeing sameple  8  ...\n",
      "Takeing sameple  9  ...\n",
      "Takeing sameple  10  ...\n",
      "Takeing sameple  11  ...\n",
      "Takeing sameple  12  ...\n",
      "Takeing sameple  13  ...\n",
      "Takeing sameple  14  ...\n",
      "Takeing sameple  15  ...\n",
      "Takeing sameple  16  ...\n",
      "Takeing sameple  17  ...\n",
      "Takeing sameple  18  ...\n",
      "Takeing sameple  19  ...\n",
      "Takeing sameple  20  ...\n",
      "Takeing sameple  21  ...\n",
      "Takeing sameple  22  ...\n",
      "Takeing sameple  23  ...\n",
      "Takeing sameple  24  ...\n",
      "Takeing sameple  25  ...\n",
      "Takeing sameple  26  ...\n",
      "Takeing sameple  27  ...\n",
      "Takeing sameple  28  ...\n",
      "Takeing sameple  29  ...\n",
      "Takeing sameple  30  ...\n",
      "Takeing sameple  31  ...\n",
      "Takeing sameple  32  ...\n",
      "Takeing sameple  33  ...\n",
      "Takeing sameple  34  ...\n",
      "Takeing sameple  35  ...\n",
      "Takeing sameple  36  ...\n",
      "Takeing sameple  37  ...\n",
      "Takeing sameple  38  ...\n",
      "Takeing sameple  39  ...\n",
      "Takeing sameple  40  ...\n",
      "Takeing sameple  41  ...\n",
      "Takeing sameple  42  ...\n",
      "Takeing sameple  43  ...\n",
      "Takeing sameple  44  ...\n",
      "Takeing sameple  45  ...\n",
      "Takeing sameple  46  ...\n",
      "Takeing sameple  47  ...\n",
      "Takeing sameple  48  ...\n",
      "Takeing sameple  49  ...\n",
      "Takeing sameple  50  ...\n",
      "Takeing sameple  51  ...\n",
      "Takeing sameple  52  ...\n",
      "Takeing sameple  53  ...\n",
      "Takeing sameple  54  ...\n",
      "Takeing sameple  55  ...\n",
      "Takeing sameple  56  ...\n",
      "Takeing sameple  57  ...\n",
      "Takeing sameple  58  ...\n",
      "Takeing sameple  59  ...\n",
      "Takeing sameple  60  ...\n",
      "Takeing sameple  61  ...\n",
      "Takeing sameple  62  ...\n",
      "Takeing sameple  63  ...\n",
      "Takeing sameple  64  ...\n",
      "Takeing sameple  65  ...\n",
      "Takeing sameple  66  ...\n",
      "Takeing sameple  67  ...\n",
      "Takeing sameple  68  ...\n",
      "Takeing sameple  69  ...\n",
      "Takeing sameple  70  ...\n",
      "Takeing sameple  71  ...\n",
      "Takeing sameple  72  ...\n",
      "Takeing sameple  73  ...\n",
      "Takeing sameple  74  ...\n",
      "Takeing sameple  75  ...\n",
      "Takeing sameple  76  ...\n",
      "Takeing sameple  77  ...\n",
      "Takeing sameple  78  ...\n",
      "Takeing sameple  79  ...\n",
      "Takeing sameple  80  ...\n",
      "Takeing sameple  81  ...\n",
      "Takeing sameple  82  ...\n",
      "Takeing sameple  83  ...\n",
      "Takeing sameple  84  ...\n",
      "Takeing sameple  85  ...\n",
      "Takeing sameple  86  ...\n",
      "Takeing sameple  87  ...\n",
      "Takeing sameple  88  ...\n",
      "Takeing sameple  89  ...\n",
      "Takeing sameple  90  ...\n",
      "Takeing sameple  91  ...\n",
      "Takeing sameple  92  ...\n",
      "Takeing sameple  93  ...\n",
      "Takeing sameple  94  ...\n",
      "Takeing sameple  95  ...\n",
      "Takeing sameple  96  ...\n",
      "Takeing sameple  97  ...\n",
      "Takeing sameple  98  ...\n",
      "Takeing sameple  99  ...\n",
      "Takeing sameple  100  ...\n",
      "Takeing sameple  101  ...\n",
      "Takeing sameple  102  ...\n",
      "Takeing sameple  103  ...\n",
      "Takeing sameple  104  ...\n",
      "Takeing sameple  105  ...\n",
      "Takeing sameple  106  ...\n",
      "Takeing sameple  107  ...\n",
      "Takeing sameple  108  ...\n",
      "Takeing sameple  109  ...\n",
      "Takeing sameple  110  ...\n",
      "Takeing sameple  111  ...\n",
      "Takeing sameple  112  ...\n",
      "Takeing sameple  113  ...\n",
      "Takeing sameple  114  ...\n",
      "Takeing sameple  115  ...\n",
      "Takeing sameple  116  ...\n",
      "Takeing sameple  117  ...\n",
      "Takeing sameple  118  ...\n",
      "Takeing sameple  119  ...\n",
      "Takeing sameple  120  ...\n",
      "Takeing sameple  121  ...\n",
      "Takeing sameple  122  ...\n",
      "Takeing sameple  123  ...\n",
      "Takeing sameple  124  ...\n",
      "Takeing sameple  125  ...\n",
      "Takeing sameple  126  ...\n",
      "Takeing sameple  127  ...\n",
      "Takeing sameple  128  ...\n",
      "Takeing sameple  129  ...\n",
      "Takeing sameple  130  ...\n",
      "Takeing sameple  131  ...\n",
      "Takeing sameple  132  ...\n",
      "Takeing sameple  133  ...\n",
      "Takeing sameple  134  ...\n",
      "Takeing sameple  135  ...\n",
      "Takeing sameple  136  ...\n",
      "Takeing sameple  137  ...\n",
      "Takeing sameple  138  ...\n",
      "Takeing sameple  139  ...\n",
      "Takeing sameple  140  ...\n",
      "Takeing sameple  141  ...\n",
      "Takeing sameple  142  ...\n",
      "Takeing sameple  143  ...\n",
      "Takeing sameple  144  ...\n",
      "Takeing sameple  145  ...\n",
      "Takeing sameple  146  ...\n",
      "Takeing sameple  147  ...\n",
      "Takeing sameple  148  ...\n",
      "Takeing sameple  149  ...\n",
      "Takeing sameple  150  ...\n",
      "Takeing sameple  151  ...\n",
      "Takeing sameple  152  ...\n",
      "Takeing sameple  153  ...\n",
      "Takeing sameple  154  ...\n",
      "Takeing sameple  155  ...\n",
      "Takeing sameple  156  ...\n",
      "Takeing sameple  157  ...\n",
      "Takeing sameple  158  ...\n",
      "Takeing sameple  159  ...\n",
      "Takeing sameple  160  ...\n",
      "Takeing sameple  161  ...\n",
      "Takeing sameple  162  ...\n",
      "Takeing sameple  163  ...\n",
      "Takeing sameple  164  ...\n",
      "Takeing sameple  165  ...\n",
      "Takeing sameple  166  ...\n",
      "Takeing sameple  167  ...\n",
      "Takeing sameple  168  ...\n",
      "Takeing sameple  169  ...\n",
      "Takeing sameple  170  ...\n",
      "Takeing sameple  171  ...\n",
      "Takeing sameple  172  ...\n",
      "Takeing sameple  173  ...\n",
      "Takeing sameple  174  ...\n",
      "Takeing sameple  175  ...\n",
      "Takeing sameple  176  ...\n",
      "Takeing sameple  177  ...\n",
      "Takeing sameple  178  ...\n",
      "Takeing sameple  179  ...\n",
      "Takeing sameple  180  ...\n",
      "Takeing sameple  181  ...\n",
      "Takeing sameple  182  ...\n",
      "Takeing sameple  183  ...\n",
      "Takeing sameple  184  ...\n",
      "Takeing sameple  185  ...\n",
      "Takeing sameple  186  ...\n",
      "Takeing sameple  187  ...\n",
      "Takeing sameple  188  ...\n",
      "Takeing sameple  189  ...\n",
      "Takeing sameple  190  ...\n",
      "Takeing sameple  191  ...\n",
      "Takeing sameple  192  ...\n",
      "Takeing sameple  193  ...\n",
      "Takeing sameple  194  ...\n",
      "Takeing sameple  195  ...\n",
      "Takeing sameple  196  ...\n",
      "Takeing sameple  197  ...\n",
      "Takeing sameple  198  ...\n",
      "Takeing sameple  199  ...\n"
     ]
    }
   ],
   "source": [
    "[xpts, samples] = od.progression(params_0,delta_params,n_samples)"
   ]
  },
  {
   "cell_type": "code",
   "execution_count": 67,
   "metadata": {},
   "outputs": [
    {
     "data": {
      "image/png": "[encoded data removed]",
      "text/plain": [
       "<Figure size 576x72 with 1 Axes>"
      ]
     },
     "metadata": {},
     "output_type": "display_data"
    }
   ],
   "source": [
    "sns.palplot(sns.cubehelix_palette(8))"
   ]
  },
  {
   "cell_type": "code",
   "execution_count": 74,
   "metadata": {},
   "outputs": [
    {
     "data": {
      "text/plain": [
       "0.398"
      ]
     },
     "execution_count": 74,
     "metadata": {},
     "output_type": "execute_result"
    }
   ],
   "source": [
    "samples[-1]['ubind']"
   ]
  },
  {
   "cell_type": "code",
   "execution_count": 68,
   "metadata": {},
   "outputs": [
    {
     "data": {
      "image/png": "[encoded data removed]",
      "text/plain": [
       "<Figure size 432x288 with 1 Axes>"
      ]
     },
     "metadata": {},
     "output_type": "display_data"
    },
    {
     "data": {
      "image/png": "[encoded data removed]",
      "text/plain": [
       "<Figure size 432x288 with 1 Axes>"
      ]
     },
     "metadata": {},
     "output_type": "display_data"
    }
   ],
   "source": [
    "colors = sns.cubehelix_palette(len(samples))\n",
    "for i_sample, sample in enumerate(samples):\n",
    "    plt.plot(xpts,sample['phi_a'],color=colors[i_sample])\n",
    "    #plt.ylim((0,0.1))\n",
    "plt.show()\n",
    "for i_sample, sample in enumerate(samples):\n",
    "    plt.plot(xpts,sample['phi_b'],color=colors[i_sample])\n",
    "    #plt.ylim((0,0.1))\n",
    "plt.show()"
   ]
  },
  {
   "cell_type": "code",
   "execution_count": 54,
   "metadata": {},
   "outputs": [],
   "source": [
    "parameters = {'R':1.0,\n",
    "             'b':0.01,\n",
    "             'basis_size':150,\n",
    "             'nxpts':450,\n",
    "             'fraction_A':0.01,\n",
    "             'fraction_B':0.01,\n",
    "             'fractional_update':0.02,\n",
    "             'accelerate_level':0.05,\n",
    "             'accelerated_update':0.05,\n",
    "             'spherical':True,\n",
    "             'tolerence':0.005}\n",
    "u_constants = {'rbind':0.03,\n",
    "              'ubind':-0.00,\n",
    "              'chi_aa':-0.007,\n",
    "              'chi_pp':0.01,\n",
    "              'equ_of_state':'FloryHuggins',\n",
    "              'reverse_x':True}"
   ]
  },
  {
   "cell_type": "code",
   "execution_count": 45,
   "metadata": {},
   "outputs": [
    {
     "name": "stderr",
     "output_type": "stream",
     "text": [
      "/home/users/qmac/SCFT/oneDInteraction.py:291: UserWarning: Failed to converge error metric = 0.05896274373597067\n",
      "  warnings.warn(\"Failed to converge error metric = \"+str(error))\n"
     ]
    }
   ],
   "source": [
    "[xpts, history] = od.iterate(u_constants, **parameters)"
   ]
  },
  {
   "cell_type": "code",
   "execution_count": null,
   "metadata": {},
   "outputs": [],
   "source": [
    "import cProfile\n",
    "cProfile.run('od.iterate(u_constants, **parameters)')"
   ]
  },
  {
   "cell_type": "code",
   "execution_count": 46,
   "metadata": {},
   "outputs": [
    {
     "data": {
      "image/png": "[encoded data removed]",
      "text/plain": [
       "<Figure size 432x288 with 1 Axes>"
      ]
     },
     "metadata": {},
     "output_type": "display_data"
    }
   ],
   "source": [
    "plt.plot(xpts,history[-1]['phi_a'],label='a')\n",
    "plt.plot(xpts,history[-1]['phi_b'],label='b')\n",
    "plt.plot(xpts,history[-1]['phi_a']+history[-1]['phi_b'],label='total',color='k')\n",
    "plt.ylabel('Volume Fraction')\n",
    "plt.xlabel('r/R')\n",
    "plt.legend()\n",
    "plt.show()"
   ]
  },
  {
   "cell_type": "code",
   "execution_count": 38,
   "metadata": {},
   "outputs": [
    {
     "data": {
      "image/png": "[encoded data removed]",
      "text/plain": [
       "<Figure size 432x288 with 1 Axes>"
      ]
     },
     "metadata": {},
     "output_type": "display_data"
    }
   ],
   "source": [
    "errors = []\n",
    "for m in range(len(history)):\n",
    "    errors.append(history[m]['error'])\n",
    "plt.plot(np.arange(len(history)),errors,'-o')\n",
    "plt.yscale('log')\n",
    "#plt.ylim([0.00001,1])"
   ]
  },
  {
   "cell_type": "code",
   "execution_count": 79,
   "metadata": {},
   "outputs": [
    {
     "data": {
      "image/png": "[encoded data removed]",
      "text/plain": [
       "<Figure size 432x288 with 1 Axes>"
      ]
     },
     "metadata": {},
     "output_type": "display_data"
    }
   ],
   "source": [
    "colors = sns.cubehelix_palette(len(history))\n",
    "colors_b = sns.cubehelix_palette(len(history),start=2,rot=0)\n",
    "for m in range(0,len(history),2):\n",
    "    plt.plot(xpts,history[m]['phi_a'],color=colors[m])\n",
    "    plt.plot(xpts,history[m]['phi_b'],color=colors_b[m])\n",
    "plt.show()"
   ]
  },
  {
   "cell_type": "code",
   "execution_count": 13,
   "metadata": {},
   "outputs": [
    {
     "data": {
      "image/png": "[encoded data removed]",
      "text/plain": [
       "<Figure size 576x72 with 1 Axes>"
      ]
     },
     "metadata": {},
     "output_type": "display_data"
    }
   ],
   "source": [
    "sns.palplot(sns.cubehelix_palette(8))"
   ]
  },
  {
   "cell_type": "code",
   "execution_count": 284,
   "metadata": {},
   "outputs": [
    {
     "data": {
      "image/png": "[encoded data removed]",
      "text/plain": [
       "<Figure size 576x72 with 1 Axes>"
      ]
     },
     "metadata": {},
     "output_type": "display_data"
    }
   ],
   "source": [
    "sns.palplot(sns.cubehelix_palette(8,start=2,rot=0))"
   ]
  },
  {
   "cell_type": "code",
   "execution_count": null,
   "metadata": {},
   "outputs": [],
   "source": []
  },
  {
   "cell_type": "code",
   "execution_count": null,
   "metadata": {},
   "outputs": [],
   "source": []
  },
  {
   "cell_type": "code",
   "execution_count": 172,
   "metadata": {},
   "outputs": [],
   "source": [
    "import time"
   ]
  },
  {
   "cell_type": "code",
   "execution_count": 164,
   "metadata": {},
   "outputs": [
    {
     "ename": "TypeError",
     "evalue": "'module' object is not callable",
     "output_type": "error",
     "traceback": [
      "\u001b[0;31m---------------------------------------------------------------------------\u001b[0m",
      "\u001b[0;31mTypeError\u001b[0m                                 Traceback (most recent call last)",
      "\u001b[0;32m<ipython-input-164-3a5c8e1335d7>\u001b[0m in \u001b[0;36m<module>\u001b[0;34m()\u001b[0m\n\u001b[1;32m      1\u001b[0m \u001b[0mM\u001b[0m\u001b[0;34m=\u001b[0m\u001b[0mhistory\u001b[0m\u001b[0;34m[\u001b[0m\u001b[0;34m-\u001b[0m\u001b[0;36m1\u001b[0m\u001b[0;34m]\u001b[0m\u001b[0;34m[\u001b[0m\u001b[0;34m'M_a'\u001b[0m\u001b[0;34m]\u001b[0m\u001b[0;34m\u001b[0m\u001b[0m\n\u001b[1;32m      2\u001b[0m \u001b[0;34m\u001b[0m\u001b[0m\n\u001b[0;32m----> 3\u001b[0;31m \u001b[0mtimeit\u001b[0m\u001b[0;34m(\u001b[0m\u001b[0;34m'sorted_eig(M, top=True, power_iteration=True)'\u001b[0m\u001b[0;34m)\u001b[0m\u001b[0;34m\u001b[0m\u001b[0m\n\u001b[0m",
      "\u001b[0;31mTypeError\u001b[0m: 'module' object is not callable"
     ]
    }
   ],
   "source": [
    "M=history[-1]['M_a']\n",
    "M.shape"
   ]
  },
  {
   "cell_type": "code",
   "execution_count": 177,
   "metadata": {},
   "outputs": [
    {
     "name": "stdout",
     "output_type": "stream",
     "text": [
      "5.6135077476501465\n"
     ]
    }
   ],
   "source": [
    "start = time.time()\n",
    "for _ in range(100):\n",
    "    v=od.sorted_eig(M, top=True, power_iteration=True, tol=10**(-10))\n",
    "end = time.time()\n",
    "print(end-start)"
   ]
  },
  {
   "cell_type": "code",
   "execution_count": 174,
   "metadata": {},
   "outputs": [
    {
     "name": "stdout",
     "output_type": "stream",
     "text": [
      "3.0962798595428467\n"
     ]
    }
   ],
   "source": [
    "start = time.time()\n",
    "for _ in range(100):\n",
    "    v=od.sorted_eig(M, top=True, power_iteration=False, tol=10**(-14))\n",
    "end = time.time()\n",
    "print(end-start)"
   ]
  }
 ],
 "metadata": {
  "kernelspec": {
   "display_name": "Python 3",
   "language": "python",
   "name": "python3"
  },
  "language_info": {
   "codemirror_mode": {
    "name": "ipython",
    "version": 3
   },
   "file_extension": ".py",
   "mimetype": "text/x-python",
   "name": "python",
   "nbconvert_exporter": "python",
   "pygments_lexer": "ipython3",
   "version": "3.6.5"
  },
  "latex_envs": {
   "LaTeX_envs_menu_present": true,
   "autocomplete": true,
   "bibliofile": "biblio.bib",
   "cite_by": "apalike",
   "current_citInitial": 1,
   "eqLabelWithNumbers": true,
   "eqNumInitial": 1,
   "hotkeys": {
    "equation": "Ctrl-E",
    "itemize": "Ctrl-I"
   },
   "labels_anchors": false,
   "latex_user_defs": false,
   "report_style_numbering": false,
   "user_envs_cfg": false
  },
  "toc": {
   "colors": {
    "hover_highlight": "#DAA520",
    "running_highlight": "#FF0000",
    "selected_highlight": "#FFD700"
   },
   "moveMenuLeft": true,
   "nav_menu": {
    "height": "12px",
    "width": "252px"
   },
   "navigate_menu": true,
   "number_sections": true,
   "sideBar": true,
   "threshold": 4,
   "toc_cell": false,
   "toc_section_display": "block",
   "toc_window_display": false,
   "widenNotebook": false
  }
 },
 "nbformat": 4,
 "nbformat_minor": 2
}
